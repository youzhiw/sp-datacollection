{
 "cells": [
  {
   "cell_type": "code",
   "execution_count": 1,
   "metadata": {},
   "outputs": [
    {
     "name": "stdout",
     "output_type": "stream",
     "text": [
      "A total of 514 events~\n"
     ]
    }
   ],
   "source": [
    "from obspy.clients.fdsn import Client\n",
    "from obspy import UTCDateTime\n",
    "\n",
    "from obspy.clients.fdsn.header import URL_MAPPINGS\n",
    "\n",
    "# specify webservice\n",
    "client = Client('SCEDC')\n",
    "\n",
    "# origin time: between start and end time\n",
    "# location: within a box region\n",
    "# depth: between min and max depths\n",
    "# magnitude: between min and mag magnitudes\n",
    "catalog = client.get_events(starttime=UTCDateTime(\"2022-01-01T00:00:00.000\"), endtime=UTCDateTime(\"2022-07-01T00:00:00.000\") \\\n",
    "                            , minlatitude=32, maxlatitude=37, minlongitude=-122, maxlongitude=-114, mindepth=-5.0, maxdepth=20.0, minmagnitude=2.0, maxmagnitude=6.0)\n",
    "\n",
    "\n",
    "print(\"A total of {} events~\".format(catalog.count()))"
   ]
  },
  {
   "cell_type": "code",
   "execution_count": 11,
   "metadata": {},
   "outputs": [],
   "source": [
    "# write to a text file\n",
    "datadir = \"./\"\n",
    "with open(f\"{datadir}/events.csv\", \"w\") as f:\n",
    "    f.write(\"time, latitude, longitude, depth, depthUnits, magnitude, magnitudeType\\n\")\n",
    "    for ev in catalog:\n",
    "        origin = ev.preferred_origin().time\n",
    "        lon = ev.preferred_origin().longitude\n",
    "        lat = ev.preferred_origin().latitude\n",
    "        depth = ev.preferred_origin().depth / 1000.0  # convert to KILOMETER\n",
    "        evmg = ev.preferred_magnitude().mag\n",
    "        evmg_type = ev.preferred_magnitude().magnitude_type\n",
    "        f.write(\"{}Z, {:.5f}, {:.5f}, {:6.2f}, {}, {:5}, {}\\n\".format(origin.strftime(\"%Y-%m-%dT%H:%M:%S.%f\")[:-3], lat, lon, depth, \"KILOMETER\", evmg, evmg_type))"
   ]
  },
  {
   "cell_type": "code",
   "execution_count": 2,
   "metadata": {},
   "outputs": [
    {
     "data": {
      "text/plain": [
       "514 Event(s) in Catalog:\n",
       "2022-06-29T15:37:39.060000Z | +34.336, -119.205 | 2.7  Ml | manual\n",
       "2022-06-29T04:19:36.690000Z | +33.181, -115.607 | 3.02 Ml | manual\n",
       "...\n",
       "2022-01-02T23:27:45.920000Z | +33.648, -116.742 | 2.36 Ml | manual\n",
       "2022-01-02T00:16:14.080000Z | +32.262, -115.340 | 2.28 Ml | manual\n",
       "To see all events call 'print(CatalogObject.__str__(print_all=True))'"
      ]
     },
     "execution_count": 2,
     "metadata": {},
     "output_type": "execute_result"
    }
   ],
   "source": [
    "catalog"
   ]
  }
 ],
 "metadata": {
  "interpreter": {
   "hash": "3067ead486e059ec00ffe7555bdb889e6e264a24dc711bf108106cc7baee8d5d"
  },
  "kernelspec": {
   "display_name": "Python 3 (ipykernel)",
   "language": "python",
   "name": "python3"
  },
  "language_info": {
   "codemirror_mode": {
    "name": "ipython",
    "version": 3
   },
   "file_extension": ".py",
   "mimetype": "text/x-python",
   "name": "python",
   "nbconvert_exporter": "python",
   "pygments_lexer": "ipython3",
   "version": "3.11.0"
  }
 },
 "nbformat": 4,
 "nbformat_minor": 4
}
