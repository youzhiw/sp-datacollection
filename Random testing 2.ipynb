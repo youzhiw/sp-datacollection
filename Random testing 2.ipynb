{
 "cells": [
  {
   "cell_type": "code",
   "execution_count": 16,
   "id": "0f1a98c0",
   "metadata": {},
   "outputs": [],
   "source": [
    "import sys\n",
    "import warnings\n",
    "\n",
    "import numpy as np\n",
    "\n",
    "from obspy import UTCDateTime\n",
    "from obspy.core import Stats"
   ]
  },
  {
   "cell_type": "code",
   "execution_count": 17,
   "id": "c9f64cb5",
   "metadata": {},
   "outputs": [],
   "source": [
    "#  refine P-wave arrival and calculate theoretical sP-P differential time\n",
    "import os\n",
    "import glob\n",
    "import obspy\n",
    "import time\n",
    "from obspy.taup import TauPyModel\n",
    "from obspy.clients.iris import Client\n",
    "client = Client()\n",
    "import matplotlib.pyplot as plt\n",
    "import numpy as np\n",
    "from obspy.signal.trigger import classic_sta_lta\n",
    "from IPython.display import clear_output\n",
    "\n",
    "st = obspy.read(f\"C:/Users/youzh\\Documents/My documents(not synced)/sP_Workflow/Download/SAC/20220102001614080/AZ.LVA2..*[RTZ].SAC.bp.cut\")"
   ]
  },
  {
   "cell_type": "code",
   "execution_count": 18,
   "id": "3ef875e4",
   "metadata": {},
   "outputs": [
    {
     "ename": "NameError",
     "evalue": "name 'get_sac_reftime' is not defined",
     "output_type": "error",
     "traceback": [
      "\u001b[1;31m---------------------------------------------------------------------------\u001b[0m",
      "\u001b[1;31mNameError\u001b[0m                                 Traceback (most recent call last)",
      "Input \u001b[1;32mIn [18]\u001b[0m, in \u001b[0;36m<cell line: 1>\u001b[1;34m()\u001b[0m\n\u001b[1;32m----> 1\u001b[0m \u001b[43mget_sac_reftime\u001b[49m(st)\n",
      "\u001b[1;31mNameError\u001b[0m: name 'get_sac_reftime' is not defined"
     ]
    }
   ],
   "source": [
    "get_sac_reftime(st)"
   ]
  },
  {
   "cell_type": "code",
   "execution_count": 9,
   "id": "e368b6b7",
   "metadata": {},
   "outputs": [],
   "source": [
    "a = [1,2,3,4,5,6,7,8,9,10]"
   ]
  },
  {
   "cell_type": "code",
   "execution_count": 10,
   "id": "a47b343c",
   "metadata": {},
   "outputs": [],
   "source": [
    "c, d, e, f, g, h , i, j ,k, l =a"
   ]
  },
  {
   "cell_type": "code",
   "execution_count": 11,
   "id": "03f96a19",
   "metadata": {},
   "outputs": [
    {
     "data": {
      "text/plain": [
       "1"
      ]
     },
     "execution_count": 11,
     "metadata": {},
     "output_type": "execute_result"
    }
   ],
   "source": [
    "c"
   ]
  }
 ],
 "metadata": {
  "kernelspec": {
   "display_name": "Python 3 (ipykernel)",
   "language": "python",
   "name": "python3"
  },
  "language_info": {
   "codemirror_mode": {
    "name": "ipython",
    "version": 3
   },
   "file_extension": ".py",
   "mimetype": "text/x-python",
   "name": "python",
   "nbconvert_exporter": "python",
   "pygments_lexer": "ipython3",
   "version": "3.9.13"
  }
 },
 "nbformat": 4,
 "nbformat_minor": 5
}
