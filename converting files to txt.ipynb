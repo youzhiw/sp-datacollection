{
 "cells": [
  {
   "cell_type": "code",
   "execution_count": 6,
   "id": "7ea90a1d",
   "metadata": {},
   "outputs": [
    {
     "ename": "TypeError",
     "evalue": "invalid fd type (<class 'str'>, expected integer)",
     "output_type": "error",
     "traceback": [
      "\u001b[1;31m---------------------------------------------------------------------------\u001b[0m",
      "\u001b[1;31mTypeError\u001b[0m                                 Traceback (most recent call last)",
      "Cell \u001b[1;32mIn[6], line 22\u001b[0m\n\u001b[0;32m     19\u001b[0m             new_file\u001b[38;5;241m.\u001b[39mwrite(content)\n\u001b[0;32m     21\u001b[0m \u001b[38;5;66;03m# Call the function with the folder path and output folder path as arguments\u001b[39;00m\n\u001b[1;32m---> 22\u001b[0m \u001b[43mconvert_to_txt\u001b[49m\u001b[43m(\u001b[49m\u001b[38;5;124;43m\"\u001b[39;49m\u001b[38;5;124;43m./judge\u001b[39;49m\u001b[38;5;124;43m\"\u001b[39;49m\u001b[43m,\u001b[49m\u001b[43m \u001b[49m\u001b[38;5;124;43m\"\u001b[39;49m\u001b[38;5;124;43m./judge_txt\u001b[39;49m\u001b[38;5;124;43m\"\u001b[39;49m\u001b[43m)\u001b[49m\n",
      "Cell \u001b[1;32mIn[6], line 13\u001b[0m, in \u001b[0;36mconvert_to_txt\u001b[1;34m(folder_path, output_folder)\u001b[0m\n\u001b[0;32m     10\u001b[0m file_path \u001b[38;5;241m=\u001b[39m os\u001b[38;5;241m.\u001b[39mpath\u001b[38;5;241m.\u001b[39mjoin(folder_path, filename)\n\u001b[0;32m     12\u001b[0m \u001b[38;5;66;03m# Read the content of the file\u001b[39;00m\n\u001b[1;32m---> 13\u001b[0m \u001b[38;5;28;01mwith\u001b[39;00m \u001b[43mos\u001b[49m\u001b[38;5;241;43m.\u001b[39;49m\u001b[43mfdopen\u001b[49m\u001b[43m(\u001b[49m\u001b[43mfile_path\u001b[49m\u001b[43m,\u001b[49m\u001b[43m \u001b[49m\u001b[38;5;124;43m'\u001b[39;49m\u001b[38;5;124;43mr\u001b[39;49m\u001b[38;5;124;43m'\u001b[39;49m\u001b[43m)\u001b[49m \u001b[38;5;28;01mas\u001b[39;00m file:\n\u001b[0;32m     14\u001b[0m     content \u001b[38;5;241m=\u001b[39m file\u001b[38;5;241m.\u001b[39mread()\n\u001b[0;32m     16\u001b[0m \u001b[38;5;66;03m# Write the content to a new .txt file\u001b[39;00m\n",
      "File \u001b[1;32m<frozen os>:1026\u001b[0m, in \u001b[0;36mfdopen\u001b[1;34m(fd, mode, buffering, encoding, *args, **kwargs)\u001b[0m\n",
      "\u001b[1;31mTypeError\u001b[0m: invalid fd type (<class 'str'>, expected integer)"
     ]
    }
   ],
   "source": [
    "import os\n",
    "import builtins\n",
    "\n",
    "def convert_to_txt(folder_path, output_folder):\n",
    "    for filename in os.listdir(folder_path):\n",
    "        if filename.endswith(\".txt\"):\n",
    "            continue\n",
    "\n",
    "        # Get the file path\n",
    "        file_path = os.path.join(folder_path, filename)\n",
    "\n",
    "        # Read the content of the file\n",
    "        with os.fdopen(file_path, 'r') as file:\n",
    "            content = file.read()\n",
    "\n",
    "        # Write the content to a new .txt file\n",
    "        new_file_path = os.path.join(output_folder, os.path.splitext(filename)[0] + \".txt\")\n",
    "        with open(new_file_path, 'w') as new_file:\n",
    "            new_file.write(content)\n",
    "\n",
    "# Call the function with the folder path and output folder path as arguments\n",
    "convert_to_txt(\"./judge\", \"./judge_txt\")\n"
   ]
  },
  {
   "cell_type": "code",
   "execution_count": 5,
   "id": "429b3ab5",
   "metadata": {},
   "outputs": [],
   "source": [
    "file = open(\"judge/ 20220120095230400\", 'r')"
   ]
  },
  {
   "cell_type": "code",
   "execution_count": 7,
   "id": "aad7b0d5",
   "metadata": {},
   "outputs": [
    {
     "ename": "FileNotFoundError",
     "evalue": "[WinError 3] The system cannot find the path specified: '/judge'",
     "output_type": "error",
     "traceback": [
      "\u001b[1;31m---------------------------------------------------------------------------\u001b[0m",
      "\u001b[1;31mFileNotFoundError\u001b[0m                         Traceback (most recent call last)",
      "Cell \u001b[1;32mIn[7], line 6\u001b[0m\n\u001b[0;32m      2\u001b[0m \u001b[38;5;28;01mimport\u001b[39;00m \u001b[38;5;21;01mstring\u001b[39;00m\n\u001b[0;32m      4\u001b[0m folder_path \u001b[38;5;241m=\u001b[39m \u001b[38;5;124m\"\u001b[39m\u001b[38;5;124m/judge\u001b[39m\u001b[38;5;124m\"\u001b[39m\n\u001b[1;32m----> 6\u001b[0m \u001b[38;5;28;01mfor\u001b[39;00m filename \u001b[38;5;129;01min\u001b[39;00m \u001b[43mos\u001b[49m\u001b[38;5;241;43m.\u001b[39;49m\u001b[43mlistdir\u001b[49m\u001b[43m(\u001b[49m\u001b[43mfolder_path\u001b[49m\u001b[43m)\u001b[49m:\n\u001b[0;32m      7\u001b[0m     file_path \u001b[38;5;241m=\u001b[39m os\u001b[38;5;241m.\u001b[39mpath\u001b[38;5;241m.\u001b[39mjoin(folder_path, filename)\n\u001b[0;32m      8\u001b[0m     \u001b[38;5;28;01mif\u001b[39;00m os\u001b[38;5;241m.\u001b[39mpath\u001b[38;5;241m.\u001b[39misfile(file_path):\n",
      "\u001b[1;31mFileNotFoundError\u001b[0m: [WinError 3] The system cannot find the path specified: '/judge'"
     ]
    }
   ],
   "source": [
    "import os\n",
    "import string\n",
    "\n",
    "folder_path = \"/judge\"\n",
    "\n",
    "for filename in os.listdir(folder_path):\n",
    "    file_path = os.path.join(folder_path, filename)\n",
    "    if os.path.isfile(file_path):\n",
    "        try:\n",
    "            with open(file_path, 'r', encoding='utf-8') as f:\n",
    "                f.read()\n",
    "        except:\n",
    "            os.remove(file_path)"
   ]
  },
  {
   "cell_type": "code",
   "execution_count": 12,
   "id": "8c276b70",
   "metadata": {},
   "outputs": [
    {
     "name": "stderr",
     "output_type": "stream",
     "text": [
      "C:\\Users\\youzh\\AppData\\Local\\Temp\\ipykernel_19008\\3856653130.py:14: FutureWarning: The frame.append method is deprecated and will be removed from pandas in a future version. Use pandas.concat instead.\n",
      "  combined_df = combined_df.append(df, ignore_index=True)\n",
      "C:\\Users\\youzh\\AppData\\Local\\Temp\\ipykernel_19008\\3856653130.py:14: FutureWarning: The frame.append method is deprecated and will be removed from pandas in a future version. Use pandas.concat instead.\n",
      "  combined_df = combined_df.append(df, ignore_index=True)\n",
      "C:\\Users\\youzh\\AppData\\Local\\Temp\\ipykernel_19008\\3856653130.py:14: FutureWarning: The frame.append method is deprecated and will be removed from pandas in a future version. Use pandas.concat instead.\n",
      "  combined_df = combined_df.append(df, ignore_index=True)\n",
      "C:\\Users\\youzh\\AppData\\Local\\Temp\\ipykernel_19008\\3856653130.py:14: FutureWarning: The frame.append method is deprecated and will be removed from pandas in a future version. Use pandas.concat instead.\n",
      "  combined_df = combined_df.append(df, ignore_index=True)\n",
      "C:\\Users\\youzh\\AppData\\Local\\Temp\\ipykernel_19008\\3856653130.py:14: FutureWarning: The frame.append method is deprecated and will be removed from pandas in a future version. Use pandas.concat instead.\n",
      "  combined_df = combined_df.append(df, ignore_index=True)\n",
      "C:\\Users\\youzh\\AppData\\Local\\Temp\\ipykernel_19008\\3856653130.py:14: FutureWarning: The frame.append method is deprecated and will be removed from pandas in a future version. Use pandas.concat instead.\n",
      "  combined_df = combined_df.append(df, ignore_index=True)\n",
      "C:\\Users\\youzh\\AppData\\Local\\Temp\\ipykernel_19008\\3856653130.py:14: FutureWarning: The frame.append method is deprecated and will be removed from pandas in a future version. Use pandas.concat instead.\n",
      "  combined_df = combined_df.append(df, ignore_index=True)\n",
      "C:\\Users\\youzh\\AppData\\Local\\Temp\\ipykernel_19008\\3856653130.py:14: FutureWarning: The frame.append method is deprecated and will be removed from pandas in a future version. Use pandas.concat instead.\n",
      "  combined_df = combined_df.append(df, ignore_index=True)\n",
      "C:\\Users\\youzh\\AppData\\Local\\Temp\\ipykernel_19008\\3856653130.py:14: FutureWarning: The frame.append method is deprecated and will be removed from pandas in a future version. Use pandas.concat instead.\n",
      "  combined_df = combined_df.append(df, ignore_index=True)\n",
      "C:\\Users\\youzh\\AppData\\Local\\Temp\\ipykernel_19008\\3856653130.py:14: FutureWarning: The frame.append method is deprecated and will be removed from pandas in a future version. Use pandas.concat instead.\n",
      "  combined_df = combined_df.append(df, ignore_index=True)\n",
      "C:\\Users\\youzh\\AppData\\Local\\Temp\\ipykernel_19008\\3856653130.py:14: FutureWarning: The frame.append method is deprecated and will be removed from pandas in a future version. Use pandas.concat instead.\n",
      "  combined_df = combined_df.append(df, ignore_index=True)\n",
      "C:\\Users\\youzh\\AppData\\Local\\Temp\\ipykernel_19008\\3856653130.py:14: FutureWarning: The frame.append method is deprecated and will be removed from pandas in a future version. Use pandas.concat instead.\n",
      "  combined_df = combined_df.append(df, ignore_index=True)\n",
      "C:\\Users\\youzh\\AppData\\Local\\Temp\\ipykernel_19008\\3856653130.py:14: FutureWarning: The frame.append method is deprecated and will be removed from pandas in a future version. Use pandas.concat instead.\n",
      "  combined_df = combined_df.append(df, ignore_index=True)\n",
      "C:\\Users\\youzh\\AppData\\Local\\Temp\\ipykernel_19008\\3856653130.py:14: FutureWarning: The frame.append method is deprecated and will be removed from pandas in a future version. Use pandas.concat instead.\n",
      "  combined_df = combined_df.append(df, ignore_index=True)\n",
      "C:\\Users\\youzh\\AppData\\Local\\Temp\\ipykernel_19008\\3856653130.py:14: FutureWarning: The frame.append method is deprecated and will be removed from pandas in a future version. Use pandas.concat instead.\n",
      "  combined_df = combined_df.append(df, ignore_index=True)\n",
      "C:\\Users\\youzh\\AppData\\Local\\Temp\\ipykernel_19008\\3856653130.py:14: FutureWarning: The frame.append method is deprecated and will be removed from pandas in a future version. Use pandas.concat instead.\n",
      "  combined_df = combined_df.append(df, ignore_index=True)\n",
      "C:\\Users\\youzh\\AppData\\Local\\Temp\\ipykernel_19008\\3856653130.py:14: FutureWarning: The frame.append method is deprecated and will be removed from pandas in a future version. Use pandas.concat instead.\n",
      "  combined_df = combined_df.append(df, ignore_index=True)\n"
     ]
    }
   ],
   "source": [
    "import os\n",
    "import pandas as pd\n",
    "folder_path = \"./judge\"\n",
    "output_file = \"./judge/combined.txt\"\n",
    "\n",
    "# Create an empty DataFrame to store the contents of all the .txt files\n",
    "combined_df = pd.DataFrame()\n",
    "\n",
    "# Loop through all the .txt files in the folder\n",
    "for filename in os.listdir(folder_path):\n",
    "    if filename.endswith(\".txt\"):\n",
    "        file_path = os.path.join(folder_path, filename)\n",
    "        df = pd.read_csv(file_path, delimiter = \" \", index_col = [0]).reset_index(drop = True)\n",
    "        combined_df = combined_df.append(df, ignore_index=True)\n",
    "\n",
    "# Write the combined DataFrame to a single .txt file\n",
    "combined_df.to_csv(output_file, sep='\\t', index=False)"
   ]
  },
  {
   "cell_type": "code",
   "execution_count": 21,
   "id": "5a9f24ac",
   "metadata": {},
   "outputs": [
    {
     "name": "stdout",
     "output_type": "stream",
     "text": [
      "0\n",
      "0\n",
      "0\n",
      "0\n",
      "0\n",
      "0\n",
      "0\n",
      "0\n",
      "0\n",
      "0\n",
      "0\n",
      "0\n",
      "0\n",
      "0\n",
      "0\n",
      "0\n",
      "0\n",
      "0\n",
      "0\n",
      "0\n",
      "0\n",
      "0\n",
      "0\n",
      "0\n",
      "0\n",
      "0\n",
      "0\n",
      "0\n",
      "0\n"
     ]
    }
   ],
   "source": [
    "with open(\"judge/combined.txt\",\"r\") as files:\n",
    "    #print(\"something\")\n",
    "    for i,file in enumerate(files):\n",
    "        print(file[4])\n"
   ]
  }
 ],
 "metadata": {
  "kernelspec": {
   "display_name": "Python 3 (ipykernel)",
   "language": "python",
   "name": "python3"
  },
  "language_info": {
   "codemirror_mode": {
    "name": "ipython",
    "version": 3
   },
   "file_extension": ".py",
   "mimetype": "text/x-python",
   "name": "python",
   "nbconvert_exporter": "python",
   "pygments_lexer": "ipython3",
   "version": "3.11.0"
  }
 },
 "nbformat": 4,
 "nbformat_minor": 5
}
