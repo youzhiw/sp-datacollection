{
 "cells": [
  {
   "cell_type": "code",
   "execution_count": 1,
   "id": "44b37155",
   "metadata": {},
   "outputs": [],
   "source": [
    "from PyPDF2 import PdfReader\n",
    "\n",
    "# Set the PDF file path and crop dimensions\n",
    "pdf_path = r\"C:\\Users\\youzh\\Documents\\My documents(not synced)\\sP_Workflow\\Download\\Verified\\20220102232745920\"\n",
    "\n",
    "reader = PdfReader(f\"{pdf_path}/CI.DPP._analyses.pdf\")\n",
    "number_of_pages = len(reader.pages)\n",
    "page = reader.pages[0]\n",
    "text = page.extract_text()"
   ]
  },
  {
   "cell_type": "code",
   "execution_count": 2,
   "id": "83e45713",
   "metadata": {},
   "outputs": [
    {
     "data": {
      "text/plain": [
       "['Pbefore:0.4s,',\n",
       " 'Plen:0.4s,',\n",
       " 'sPmPbefore:0.4s,',\n",
       " 'sPmPlen:0.4s,',\n",
       " 'sPnbefore:0.5s,',\n",
       " 'sPnlen:0.3s)']"
      ]
     },
     "execution_count": 2,
     "metadata": {},
     "output_type": "execute_result"
    }
   ],
   "source": [
    "reader = PdfReader(f\"{pdf_path}/CI.DSC._analyses.pdf\")\n",
    "number_of_pages = len(reader.pages)\n",
    "page = reader.pages[0]\n",
    "text = page.extract_text()\n",
    "index1 =text.split(\"(\")[2].split()[0].find(\":\")\n",
    "index2 = text.split(\"(\")[2].split()[0].find(\"s\")\n",
    "text.split(\"(\")[2].split()"
   ]
  },
  {
   "cell_type": "code",
   "execution_count": 3,
   "id": "fc3b36b0",
   "metadata": {},
   "outputs": [
    {
     "data": {
      "text/plain": [
       "'0.3'"
      ]
     },
     "execution_count": 3,
     "metadata": {},
     "output_type": "execute_result"
    }
   ],
   "source": [
    "i = 5\n",
    "index1 =text.split(\"(\")[2].split()[i].find(\":\")\n",
    "index2 = text.split(\"(\")[2].split()[i].find(\".\")\n",
    "text.split(\"(\")[2].split()[i][index1+1:index2+2]"
   ]
  },
  {
   "cell_type": "code",
   "execution_count": 12,
   "id": "88527d92",
   "metadata": {},
   "outputs": [],
   "source": [
    "import os\n",
    "import sys\n",
    "import numpy as np\n",
    "data_dir = r\"C:\\Users\\youzh\\Documents\\My documents(not synced)\\sP_Workflow\\Download\\Verified\""
   ]
  },
  {
   "cell_type": "code",
   "execution_count": 13,
   "id": "f83b4348",
   "metadata": {
    "scrolled": true
   },
   "outputs": [
    {
     "name": "stdout",
     "output_type": "stream",
     "text": [
      "['.ipynb_checkpoints', '20220102232745920', '20220104124219810', '20220105012439450', '20220106035747810', '20220107044318400', '20220107045132740', '20220108062131650', '20220108223706690', '20220108234618060', '20220108235154580', '20220109200252070', '20220110185947040', '20220111054724830', '20220111114149810', '20220112002458770', '20220112021208390', '20220112090603170', '20220113032108850', '20220113032453520', '20220113082309790', '20220115161902000', '20220116091814410', '20220116124930000', '20220116145950590', '20220117000229990', '20220117155620910', '20220118073915120', '20220118084437210', '20220120095230400', '20220123044939870', '20220123205715240', '20220124023838010', '20220125172319330', '20220125192818690', '20220125212130440', '20220126050555330', '20220126095905010', '20220126103830020', '20220127033401460', '20220127095426310', '20220128104007860', '20220128203303970', '20220129055641000', '20220131234528720', '20220201012424220', '20220201192630930', '20220202070130500', '20220202100105740', '20220203075810850', '20220203151832540', '20220203170822680', '20220204105219770', '20220205074104630', '20220205074909660', '20220205183420810', '20220205234904960', '20220206232447510', '20220207121028870', '20220209014742470', '20220209040551690', '20220209121834630', '20220211121842170', 'Others']\n",
      "['B']\n",
      "[]\n",
      "[]\n",
      "['B', 'C']\n",
      "[]\n",
      "[]\n",
      "['A', 'B', 'C']\n",
      "[]\n",
      "[]\n",
      "[]\n",
      "['A', 'B', 'C']\n",
      "[]\n",
      "[]\n",
      "[]\n",
      "['A', 'B', 'C']\n",
      "[]\n",
      "[]\n",
      "[]\n",
      "['B', 'C']\n",
      "[]\n",
      "[]\n",
      "['A', 'B', 'C']\n",
      "[]\n",
      "[]\n"
     ]
    },
    {
     "ename": "KeyboardInterrupt",
     "evalue": "",
     "output_type": "error",
     "traceback": [
      "\u001b[1;31m---------------------------------------------------------------------------\u001b[0m",
      "\u001b[1;31mKeyboardInterrupt\u001b[0m                         Traceback (most recent call last)",
      "Cell \u001b[1;32mIn[13], line 11\u001b[0m\n\u001b[0;32m      9\u001b[0m     \u001b[38;5;28;01mcontinue\u001b[39;00m\n\u001b[0;32m     10\u001b[0m \u001b[38;5;28;01mif\u001b[39;00m filepath\u001b[38;5;241m.\u001b[39mendswith(\u001b[38;5;124m\"\u001b[39m\u001b[38;5;124m.pdf\u001b[39m\u001b[38;5;124m\"\u001b[39m):\n\u001b[1;32m---> 11\u001b[0m     reader \u001b[38;5;241m=\u001b[39m \u001b[43mPdfReader\u001b[49m\u001b[43m(\u001b[49m\u001b[43mfilepath\u001b[49m\u001b[43m)\u001b[49m\n\u001b[0;32m     12\u001b[0m     page \u001b[38;5;241m=\u001b[39m reader\u001b[38;5;241m.\u001b[39mpages[\u001b[38;5;241m0\u001b[39m]\n\u001b[0;32m     13\u001b[0m     text \u001b[38;5;241m=\u001b[39m page\u001b[38;5;241m.\u001b[39mextract_text()\n",
      "File \u001b[1;32m~\\anaconda3\\envs\\pygmt\\Lib\\site-packages\\PyPDF2\\_reader.py:317\u001b[0m, in \u001b[0;36mPdfReader.__init__\u001b[1;34m(self, stream, strict, password)\u001b[0m\n\u001b[0;32m    311\u001b[0m     logger_warning(\n\u001b[0;32m    312\u001b[0m         \u001b[38;5;124m\"\u001b[39m\u001b[38;5;124mPdfReader stream/file object is not in binary mode. \u001b[39m\u001b[38;5;124m\"\u001b[39m\n\u001b[0;32m    313\u001b[0m         \u001b[38;5;124m\"\u001b[39m\u001b[38;5;124mIt may not be read correctly.\u001b[39m\u001b[38;5;124m\"\u001b[39m,\n\u001b[0;32m    314\u001b[0m         \u001b[38;5;18m__name__\u001b[39m,\n\u001b[0;32m    315\u001b[0m     )\n\u001b[0;32m    316\u001b[0m \u001b[38;5;28;01mif\u001b[39;00m \u001b[38;5;28misinstance\u001b[39m(stream, (\u001b[38;5;28mstr\u001b[39m, Path)):\n\u001b[1;32m--> 317\u001b[0m     \u001b[38;5;28;01mwith\u001b[39;00m \u001b[38;5;28mopen\u001b[39m(stream, \u001b[38;5;124m\"\u001b[39m\u001b[38;5;124mrb\u001b[39m\u001b[38;5;124m\"\u001b[39m) \u001b[38;5;28;01mas\u001b[39;00m fh:\n\u001b[0;32m    318\u001b[0m         stream \u001b[38;5;241m=\u001b[39m BytesIO(fh\u001b[38;5;241m.\u001b[39mread())\n\u001b[0;32m    319\u001b[0m \u001b[38;5;28mself\u001b[39m\u001b[38;5;241m.\u001b[39mread(stream)\n",
      "\u001b[1;31mKeyboardInterrupt\u001b[0m: "
     ]
    }
   ],
   "source": [
    "\n",
    "for subdir, dirs, files in os.walk(data_dir):\n",
    "    print(dirs)\n",
    "    for file in files:\n",
    "        # Get the full path of the file\n",
    "        filepath = os.path.join(subdir, file)\n",
    "        # Read the file contents\n",
    "        \n",
    "        if filepath.endswith(\".ipynb_checkpoints\\\\B\\\\CI.SLA._analyses.pdf\"):\n",
    "            continue\n",
    "        if filepath.endswith(\".pdf\"):\n",
    "            reader = PdfReader(filepath)\n",
    "            page = reader.pages[0]\n",
    "            text = page.extract_text()\n",
    "            data = []\n",
    "            for i in range(5):\n",
    "                text_split = text.split(\"(\")[2].split()\n",
    "                index1 =text_split[i].find(\":\")\n",
    "                index2 = text_split[i].find(\".\")\n",
    "                entry = text_split[i][index1+1:index2+2]\n",
    "                data = np.append(data, entry)\n",
    "            "
   ]
  },
  {
   "cell_type": "code",
   "execution_count": null,
   "id": "e7c12339",
   "metadata": {},
   "outputs": [],
   "source": [
    "data_dir = r\"C:\\Users\\youzh\\Documents\\My documents(not synced)\\sP_Workflow\\Download\\Verified\"\n",
    "\n",
    "events = os.listdir(data_dir)\n",
    "for evt in events:\n",
    "    for file in os.listdir(evt)\n",
    "        if file.endswith(\".pdf\"):\n",
    "            wave_info = []\n",
    "            reader = PdfReader(f\"{data_dir}/{evt}/file\")\n",
    "            page = reader.pages[0]\n",
    "            text = page.extract_text()\n",
    "            data = []\n",
    "            for i in range(5):\n",
    "                text_split = text.split(\"(\")[2].split()\n",
    "                index1 =text_split[i].find(\":\")\n",
    "                index2 = text_split[i].find(\".\")\n",
    "                entry = text_split[i][index1+1:index2+2]\n",
    "                data = np.append(data, entry)"
   ]
  }
 ],
 "metadata": {
  "kernelspec": {
   "display_name": "Python 3 (ipykernel)",
   "language": "python",
   "name": "python3"
  },
  "language_info": {
   "codemirror_mode": {
    "name": "ipython",
    "version": 3
   },
   "file_extension": ".py",
   "mimetype": "text/x-python",
   "name": "python",
   "nbconvert_exporter": "python",
   "pygments_lexer": "ipython3",
   "version": "3.11.0"
  }
 },
 "nbformat": 4,
 "nbformat_minor": 5
}
